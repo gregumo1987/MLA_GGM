{
  "nbformat": 4,
  "nbformat_minor": 0,
  "metadata": {
    "colab": {
      "provenance": [],
      "authorship_tag": "ABX9TyP5P5P6c0PXuXPsY7FYQUBb",
      "include_colab_link": true
    },
    "kernelspec": {
      "name": "python3",
      "display_name": "Python 3"
    },
    "language_info": {
      "name": "python"
    }
  },
  "cells": [
    {
      "cell_type": "markdown",
      "metadata": {
        "id": "view-in-github",
        "colab_type": "text"
      },
      "source": [
        "<a href=\"https://colab.research.google.com/github/gregumo1987/MLA_GGM/blob/main/MLA1_GGM.ipynb\" target=\"_parent\"><img src=\"https://colab.research.google.com/assets/colab-badge.svg\" alt=\"Open In Colab\"/></a>"
      ]
    },
    {
      "cell_type": "code",
      "source": [],
      "metadata": {
        "id": "mufIWxqGSMuD"
      },
      "execution_count": null,
      "outputs": []
    },
    {
      "cell_type": "markdown",
      "source": [
        "**Machine Learning Assignment 1<br>\n",
        "Greg Gutierrez<br>\n",
        "CS430-ON<br>\n",
        "Machine Learning in the Cloud**"
      ],
      "metadata": {
        "id": "4qCCgFOQSQo0"
      }
    },
    {
      "cell_type": "code",
      "source": [],
      "metadata": {
        "id": "JAMeqN0HSexE"
      },
      "execution_count": null,
      "outputs": []
    },
    {
      "cell_type": "markdown",
      "source": [
        "Importing libraries"
      ],
      "metadata": {
        "id": "bp0sARpBOIi-"
      }
    },
    {
      "cell_type": "code",
      "source": [
        "import pandas as pd\n",
        "import numpy as np\n",
        "import matplotlib.pyplot as plt\n",
        "import seaborn as sns\n",
        "%matplotlib inline"
      ],
      "metadata": {
        "id": "A2CSETjiSX33"
      },
      "execution_count": null,
      "outputs": []
    },
    {
      "cell_type": "markdown",
      "source": [
        "Connecting to Google Drive"
      ],
      "metadata": {
        "id": "8nMtAdljTn_2"
      }
    },
    {
      "cell_type": "code",
      "source": [
        "from google.colab import drive\n",
        "drive.mount('/content/gdrive')"
      ],
      "metadata": {
        "colab": {
          "base_uri": "https://localhost:8080/"
        },
        "outputId": "627810f4-995b-49e8-fbac-22ed5de4d545",
        "id": "9LwlgmiKTvzf"
      },
      "execution_count": null,
      "outputs": [
        {
          "output_type": "stream",
          "name": "stdout",
          "text": [
            "Drive already mounted at /content/gdrive; to attempt to forcibly remount, call drive.mount(\"/content/gdrive\", force_remount=True).\n"
          ]
        }
      ]
    },
    {
      "cell_type": "code",
      "source": [
        "df = pd.read_csv('/content/gdrive/MyDrive/CS430/weather_2012.csv')"
      ],
      "metadata": {
        "id": "Lw2BWG3c5Hgu"
      },
      "execution_count": null,
      "outputs": []
    },
    {
      "cell_type": "markdown",
      "source": [
        "Code to display first five rows and a sample of five random rows"
      ],
      "metadata": {
        "id": "rMzNki_7Vza9"
      }
    },
    {
      "cell_type": "code",
      "source": [
        "df.head()"
      ],
      "metadata": {
        "colab": {
          "base_uri": "https://localhost:8080/",
          "height": 206
        },
        "id": "r0F1O2Vd5r0o",
        "outputId": "ab3a2112-08fb-44b2-c114-ffa4a27579d8"
      },
      "execution_count": null,
      "outputs": [
        {
          "output_type": "execute_result",
          "data": {
            "text/plain": [
              "       Date/Time  Temp (C)  Dew Point Temp (C)  Rel Hum (%)  Wind Spd (km/h)  \\\n",
              "0  1/1/2012 0:00      -1.8                -3.9           86                4   \n",
              "1  1/1/2012 1:00      -1.8                -3.7           87                4   \n",
              "2  1/1/2012 2:00      -1.8                -3.4           89                7   \n",
              "3  1/1/2012 3:00      -1.5                -3.2           88                6   \n",
              "4  1/1/2012 4:00      -1.5                -3.3           88                7   \n",
              "\n",
              "   Visibility (km)  Stn Press (kPa)               Weather  \n",
              "0              8.0           101.24                   Fog  \n",
              "1              8.0           101.24                   Fog  \n",
              "2              4.0           101.26  Freezing Drizzle,Fog  \n",
              "3              4.0           101.27  Freezing Drizzle,Fog  \n",
              "4              4.8           101.23                   Fog  "
            ],
            "text/html": [
              "\n",
              "  <div id=\"df-0a83d83c-8283-4dba-a2a9-1918930d12f8\">\n",
              "    <div class=\"colab-df-container\">\n",
              "      <div>\n",
              "<style scoped>\n",
              "    .dataframe tbody tr th:only-of-type {\n",
              "        vertical-align: middle;\n",
              "    }\n",
              "\n",
              "    .dataframe tbody tr th {\n",
              "        vertical-align: top;\n",
              "    }\n",
              "\n",
              "    .dataframe thead th {\n",
              "        text-align: right;\n",
              "    }\n",
              "</style>\n",
              "<table border=\"1\" class=\"dataframe\">\n",
              "  <thead>\n",
              "    <tr style=\"text-align: right;\">\n",
              "      <th></th>\n",
              "      <th>Date/Time</th>\n",
              "      <th>Temp (C)</th>\n",
              "      <th>Dew Point Temp (C)</th>\n",
              "      <th>Rel Hum (%)</th>\n",
              "      <th>Wind Spd (km/h)</th>\n",
              "      <th>Visibility (km)</th>\n",
              "      <th>Stn Press (kPa)</th>\n",
              "      <th>Weather</th>\n",
              "    </tr>\n",
              "  </thead>\n",
              "  <tbody>\n",
              "    <tr>\n",
              "      <th>0</th>\n",
              "      <td>1/1/2012 0:00</td>\n",
              "      <td>-1.8</td>\n",
              "      <td>-3.9</td>\n",
              "      <td>86</td>\n",
              "      <td>4</td>\n",
              "      <td>8.0</td>\n",
              "      <td>101.24</td>\n",
              "      <td>Fog</td>\n",
              "    </tr>\n",
              "    <tr>\n",
              "      <th>1</th>\n",
              "      <td>1/1/2012 1:00</td>\n",
              "      <td>-1.8</td>\n",
              "      <td>-3.7</td>\n",
              "      <td>87</td>\n",
              "      <td>4</td>\n",
              "      <td>8.0</td>\n",
              "      <td>101.24</td>\n",
              "      <td>Fog</td>\n",
              "    </tr>\n",
              "    <tr>\n",
              "      <th>2</th>\n",
              "      <td>1/1/2012 2:00</td>\n",
              "      <td>-1.8</td>\n",
              "      <td>-3.4</td>\n",
              "      <td>89</td>\n",
              "      <td>7</td>\n",
              "      <td>4.0</td>\n",
              "      <td>101.26</td>\n",
              "      <td>Freezing Drizzle,Fog</td>\n",
              "    </tr>\n",
              "    <tr>\n",
              "      <th>3</th>\n",
              "      <td>1/1/2012 3:00</td>\n",
              "      <td>-1.5</td>\n",
              "      <td>-3.2</td>\n",
              "      <td>88</td>\n",
              "      <td>6</td>\n",
              "      <td>4.0</td>\n",
              "      <td>101.27</td>\n",
              "      <td>Freezing Drizzle,Fog</td>\n",
              "    </tr>\n",
              "    <tr>\n",
              "      <th>4</th>\n",
              "      <td>1/1/2012 4:00</td>\n",
              "      <td>-1.5</td>\n",
              "      <td>-3.3</td>\n",
              "      <td>88</td>\n",
              "      <td>7</td>\n",
              "      <td>4.8</td>\n",
              "      <td>101.23</td>\n",
              "      <td>Fog</td>\n",
              "    </tr>\n",
              "  </tbody>\n",
              "</table>\n",
              "</div>\n",
              "      <button class=\"colab-df-convert\" onclick=\"convertToInteractive('df-0a83d83c-8283-4dba-a2a9-1918930d12f8')\"\n",
              "              title=\"Convert this dataframe to an interactive table.\"\n",
              "              style=\"display:none;\">\n",
              "        \n",
              "  <svg xmlns=\"http://www.w3.org/2000/svg\" height=\"24px\"viewBox=\"0 0 24 24\"\n",
              "       width=\"24px\">\n",
              "    <path d=\"M0 0h24v24H0V0z\" fill=\"none\"/>\n",
              "    <path d=\"M18.56 5.44l.94 2.06.94-2.06 2.06-.94-2.06-.94-.94-2.06-.94 2.06-2.06.94zm-11 1L8.5 8.5l.94-2.06 2.06-.94-2.06-.94L8.5 2.5l-.94 2.06-2.06.94zm10 10l.94 2.06.94-2.06 2.06-.94-2.06-.94-.94-2.06-.94 2.06-2.06.94z\"/><path d=\"M17.41 7.96l-1.37-1.37c-.4-.4-.92-.59-1.43-.59-.52 0-1.04.2-1.43.59L10.3 9.45l-7.72 7.72c-.78.78-.78 2.05 0 2.83L4 21.41c.39.39.9.59 1.41.59.51 0 1.02-.2 1.41-.59l7.78-7.78 2.81-2.81c.8-.78.8-2.07 0-2.86zM5.41 20L4 18.59l7.72-7.72 1.47 1.35L5.41 20z\"/>\n",
              "  </svg>\n",
              "      </button>\n",
              "      \n",
              "  <style>\n",
              "    .colab-df-container {\n",
              "      display:flex;\n",
              "      flex-wrap:wrap;\n",
              "      gap: 12px;\n",
              "    }\n",
              "\n",
              "    .colab-df-convert {\n",
              "      background-color: #E8F0FE;\n",
              "      border: none;\n",
              "      border-radius: 50%;\n",
              "      cursor: pointer;\n",
              "      display: none;\n",
              "      fill: #1967D2;\n",
              "      height: 32px;\n",
              "      padding: 0 0 0 0;\n",
              "      width: 32px;\n",
              "    }\n",
              "\n",
              "    .colab-df-convert:hover {\n",
              "      background-color: #E2EBFA;\n",
              "      box-shadow: 0px 1px 2px rgba(60, 64, 67, 0.3), 0px 1px 3px 1px rgba(60, 64, 67, 0.15);\n",
              "      fill: #174EA6;\n",
              "    }\n",
              "\n",
              "    [theme=dark] .colab-df-convert {\n",
              "      background-color: #3B4455;\n",
              "      fill: #D2E3FC;\n",
              "    }\n",
              "\n",
              "    [theme=dark] .colab-df-convert:hover {\n",
              "      background-color: #434B5C;\n",
              "      box-shadow: 0px 1px 3px 1px rgba(0, 0, 0, 0.15);\n",
              "      filter: drop-shadow(0px 1px 2px rgba(0, 0, 0, 0.3));\n",
              "      fill: #FFFFFF;\n",
              "    }\n",
              "  </style>\n",
              "\n",
              "      <script>\n",
              "        const buttonEl =\n",
              "          document.querySelector('#df-0a83d83c-8283-4dba-a2a9-1918930d12f8 button.colab-df-convert');\n",
              "        buttonEl.style.display =\n",
              "          google.colab.kernel.accessAllowed ? 'block' : 'none';\n",
              "\n",
              "        async function convertToInteractive(key) {\n",
              "          const element = document.querySelector('#df-0a83d83c-8283-4dba-a2a9-1918930d12f8');\n",
              "          const dataTable =\n",
              "            await google.colab.kernel.invokeFunction('convertToInteractive',\n",
              "                                                     [key], {});\n",
              "          if (!dataTable) return;\n",
              "\n",
              "          const docLinkHtml = 'Like what you see? Visit the ' +\n",
              "            '<a target=\"_blank\" href=https://colab.research.google.com/notebooks/data_table.ipynb>data table notebook</a>'\n",
              "            + ' to learn more about interactive tables.';\n",
              "          element.innerHTML = '';\n",
              "          dataTable['output_type'] = 'display_data';\n",
              "          await google.colab.output.renderOutput(dataTable, element);\n",
              "          const docLink = document.createElement('div');\n",
              "          docLink.innerHTML = docLinkHtml;\n",
              "          element.appendChild(docLink);\n",
              "        }\n",
              "      </script>\n",
              "    </div>\n",
              "  </div>\n",
              "  "
            ]
          },
          "metadata": {},
          "execution_count": 5
        }
      ]
    },
    {
      "cell_type": "code",
      "source": [
        "df.sample(5)"
      ],
      "metadata": {
        "colab": {
          "base_uri": "https://localhost:8080/",
          "height": 206
        },
        "id": "frAAkUxNWDPM",
        "outputId": "fdcc99c4-9212-4951-9adb-77fcb4dfbebd"
      },
      "execution_count": 7,
      "outputs": [
        {
          "output_type": "execute_result",
          "data": {
            "text/plain": [
              "                Date/Time  Temp (C)  Dew Point Temp (C)  Rel Hum (%)  \\\n",
              "701   2012-01-30 05:00:00      -7.9               -13.8           63   \n",
              "1011  2012-02-12 03:00:00     -16.8               -23.9           54   \n",
              "7041  2012-10-20 09:00:00      13.8                13.2           96   \n",
              "8751  2012-12-30 15:00:00     -11.3               -15.6           70   \n",
              "2664  2012-04-21 00:00:00       6.3                 3.7           83   \n",
              "\n",
              "      Wind Spd (km/h)  Visibility (km)  Stn Press (kPa)       Weather  \n",
              "701                13             25.0           101.33         Clear  \n",
              "1011                9             25.0           100.57  Mainly Clear  \n",
              "7041                4              9.7            99.89           Fog  \n",
              "8751               32             48.3           101.05  Mainly Clear  \n",
              "2664               19             25.0           100.18        Cloudy  "
            ],
            "text/html": [
              "\n",
              "  <div id=\"df-a6a86c49-a021-4cd5-a197-c82c615a045e\">\n",
              "    <div class=\"colab-df-container\">\n",
              "      <div>\n",
              "<style scoped>\n",
              "    .dataframe tbody tr th:only-of-type {\n",
              "        vertical-align: middle;\n",
              "    }\n",
              "\n",
              "    .dataframe tbody tr th {\n",
              "        vertical-align: top;\n",
              "    }\n",
              "\n",
              "    .dataframe thead th {\n",
              "        text-align: right;\n",
              "    }\n",
              "</style>\n",
              "<table border=\"1\" class=\"dataframe\">\n",
              "  <thead>\n",
              "    <tr style=\"text-align: right;\">\n",
              "      <th></th>\n",
              "      <th>Date/Time</th>\n",
              "      <th>Temp (C)</th>\n",
              "      <th>Dew Point Temp (C)</th>\n",
              "      <th>Rel Hum (%)</th>\n",
              "      <th>Wind Spd (km/h)</th>\n",
              "      <th>Visibility (km)</th>\n",
              "      <th>Stn Press (kPa)</th>\n",
              "      <th>Weather</th>\n",
              "    </tr>\n",
              "  </thead>\n",
              "  <tbody>\n",
              "    <tr>\n",
              "      <th>701</th>\n",
              "      <td>2012-01-30 05:00:00</td>\n",
              "      <td>-7.9</td>\n",
              "      <td>-13.8</td>\n",
              "      <td>63</td>\n",
              "      <td>13</td>\n",
              "      <td>25.0</td>\n",
              "      <td>101.33</td>\n",
              "      <td>Clear</td>\n",
              "    </tr>\n",
              "    <tr>\n",
              "      <th>1011</th>\n",
              "      <td>2012-02-12 03:00:00</td>\n",
              "      <td>-16.8</td>\n",
              "      <td>-23.9</td>\n",
              "      <td>54</td>\n",
              "      <td>9</td>\n",
              "      <td>25.0</td>\n",
              "      <td>100.57</td>\n",
              "      <td>Mainly Clear</td>\n",
              "    </tr>\n",
              "    <tr>\n",
              "      <th>7041</th>\n",
              "      <td>2012-10-20 09:00:00</td>\n",
              "      <td>13.8</td>\n",
              "      <td>13.2</td>\n",
              "      <td>96</td>\n",
              "      <td>4</td>\n",
              "      <td>9.7</td>\n",
              "      <td>99.89</td>\n",
              "      <td>Fog</td>\n",
              "    </tr>\n",
              "    <tr>\n",
              "      <th>8751</th>\n",
              "      <td>2012-12-30 15:00:00</td>\n",
              "      <td>-11.3</td>\n",
              "      <td>-15.6</td>\n",
              "      <td>70</td>\n",
              "      <td>32</td>\n",
              "      <td>48.3</td>\n",
              "      <td>101.05</td>\n",
              "      <td>Mainly Clear</td>\n",
              "    </tr>\n",
              "    <tr>\n",
              "      <th>2664</th>\n",
              "      <td>2012-04-21 00:00:00</td>\n",
              "      <td>6.3</td>\n",
              "      <td>3.7</td>\n",
              "      <td>83</td>\n",
              "      <td>19</td>\n",
              "      <td>25.0</td>\n",
              "      <td>100.18</td>\n",
              "      <td>Cloudy</td>\n",
              "    </tr>\n",
              "  </tbody>\n",
              "</table>\n",
              "</div>\n",
              "      <button class=\"colab-df-convert\" onclick=\"convertToInteractive('df-a6a86c49-a021-4cd5-a197-c82c615a045e')\"\n",
              "              title=\"Convert this dataframe to an interactive table.\"\n",
              "              style=\"display:none;\">\n",
              "        \n",
              "  <svg xmlns=\"http://www.w3.org/2000/svg\" height=\"24px\"viewBox=\"0 0 24 24\"\n",
              "       width=\"24px\">\n",
              "    <path d=\"M0 0h24v24H0V0z\" fill=\"none\"/>\n",
              "    <path d=\"M18.56 5.44l.94 2.06.94-2.06 2.06-.94-2.06-.94-.94-2.06-.94 2.06-2.06.94zm-11 1L8.5 8.5l.94-2.06 2.06-.94-2.06-.94L8.5 2.5l-.94 2.06-2.06.94zm10 10l.94 2.06.94-2.06 2.06-.94-2.06-.94-.94-2.06-.94 2.06-2.06.94z\"/><path d=\"M17.41 7.96l-1.37-1.37c-.4-.4-.92-.59-1.43-.59-.52 0-1.04.2-1.43.59L10.3 9.45l-7.72 7.72c-.78.78-.78 2.05 0 2.83L4 21.41c.39.39.9.59 1.41.59.51 0 1.02-.2 1.41-.59l7.78-7.78 2.81-2.81c.8-.78.8-2.07 0-2.86zM5.41 20L4 18.59l7.72-7.72 1.47 1.35L5.41 20z\"/>\n",
              "  </svg>\n",
              "      </button>\n",
              "      \n",
              "  <style>\n",
              "    .colab-df-container {\n",
              "      display:flex;\n",
              "      flex-wrap:wrap;\n",
              "      gap: 12px;\n",
              "    }\n",
              "\n",
              "    .colab-df-convert {\n",
              "      background-color: #E8F0FE;\n",
              "      border: none;\n",
              "      border-radius: 50%;\n",
              "      cursor: pointer;\n",
              "      display: none;\n",
              "      fill: #1967D2;\n",
              "      height: 32px;\n",
              "      padding: 0 0 0 0;\n",
              "      width: 32px;\n",
              "    }\n",
              "\n",
              "    .colab-df-convert:hover {\n",
              "      background-color: #E2EBFA;\n",
              "      box-shadow: 0px 1px 2px rgba(60, 64, 67, 0.3), 0px 1px 3px 1px rgba(60, 64, 67, 0.15);\n",
              "      fill: #174EA6;\n",
              "    }\n",
              "\n",
              "    [theme=dark] .colab-df-convert {\n",
              "      background-color: #3B4455;\n",
              "      fill: #D2E3FC;\n",
              "    }\n",
              "\n",
              "    [theme=dark] .colab-df-convert:hover {\n",
              "      background-color: #434B5C;\n",
              "      box-shadow: 0px 1px 3px 1px rgba(0, 0, 0, 0.15);\n",
              "      filter: drop-shadow(0px 1px 2px rgba(0, 0, 0, 0.3));\n",
              "      fill: #FFFFFF;\n",
              "    }\n",
              "  </style>\n",
              "\n",
              "      <script>\n",
              "        const buttonEl =\n",
              "          document.querySelector('#df-a6a86c49-a021-4cd5-a197-c82c615a045e button.colab-df-convert');\n",
              "        buttonEl.style.display =\n",
              "          google.colab.kernel.accessAllowed ? 'block' : 'none';\n",
              "\n",
              "        async function convertToInteractive(key) {\n",
              "          const element = document.querySelector('#df-a6a86c49-a021-4cd5-a197-c82c615a045e');\n",
              "          const dataTable =\n",
              "            await google.colab.kernel.invokeFunction('convertToInteractive',\n",
              "                                                     [key], {});\n",
              "          if (!dataTable) return;\n",
              "\n",
              "          const docLinkHtml = 'Like what you see? Visit the ' +\n",
              "            '<a target=\"_blank\" href=https://colab.research.google.com/notebooks/data_table.ipynb>data table notebook</a>'\n",
              "            + ' to learn more about interactive tables.';\n",
              "          element.innerHTML = '';\n",
              "          dataTable['output_type'] = 'display_data';\n",
              "          await google.colab.output.renderOutput(dataTable, element);\n",
              "          const docLink = document.createElement('div');\n",
              "          docLink.innerHTML = docLinkHtml;\n",
              "          element.appendChild(docLink);\n",
              "        }\n",
              "      </script>\n",
              "    </div>\n",
              "  </div>\n",
              "  "
            ]
          },
          "metadata": {},
          "execution_count": 7
        }
      ]
    },
    {
      "cell_type": "markdown",
      "source": [
        "Code to display all columns in data set"
      ],
      "metadata": {
        "id": "UT90a3CTWMn0"
      }
    },
    {
      "cell_type": "code",
      "source": [
        "df.columns.tolist()"
      ],
      "metadata": {
        "colab": {
          "base_uri": "https://localhost:8080/"
        },
        "id": "pwSyppX2WNml",
        "outputId": "ccf3e6c0-1944-4b74-df53-96d08e6f883f"
      },
      "execution_count": 8,
      "outputs": [
        {
          "output_type": "execute_result",
          "data": {
            "text/plain": [
              "['Date/Time',\n",
              " 'Temp (C)',\n",
              " 'Dew Point Temp (C)',\n",
              " 'Rel Hum (%)',\n",
              " 'Wind Spd (km/h)',\n",
              " 'Visibility (km)',\n",
              " 'Stn Press (kPa)',\n",
              " 'Weather']"
            ]
          },
          "metadata": {},
          "execution_count": 8
        }
      ]
    },
    {
      "cell_type": "markdown",
      "source": [
        "Code to rename Column names"
      ],
      "metadata": {
        "id": "E7y321NcWYKq"
      }
    },
    {
      "cell_type": "code",
      "source": [
        "df.rename(columns={ 'Date/Time': 'date_time','Temp (C)': 'temp_c','Dew Point Temp (C)':'dew_point','Rel Hum (%)': 'relative_humidity', 'Wind Spd (km/h)': 'wind_speed','Visibility (km)':'visibility','Stn Press (kPa)':'pressure'}, inplace=True)"
      ],
      "metadata": {
        "id": "KcQN8P3EWZEO"
      },
      "execution_count": 9,
      "outputs": []
    },
    {
      "cell_type": "markdown",
      "source": [
        "Statistics for Each Column"
      ],
      "metadata": {
        "id": "QGRihMZdWkxd"
      }
    },
    {
      "cell_type": "code",
      "source": [
        "df.describe()"
      ],
      "metadata": {
        "colab": {
          "base_uri": "https://localhost:8080/",
          "height": 300
        },
        "id": "5ndTmJK9WlfQ",
        "outputId": "159d65b6-c1bb-4ad2-eb15-e1a899b6eaa8"
      },
      "execution_count": 10,
      "outputs": [
        {
          "output_type": "execute_result",
          "data": {
            "text/plain": [
              "            temp_c    dew_point  relative_humidity   wind_speed   visibility  \\\n",
              "count  8784.000000  8784.000000        8784.000000  8784.000000  8784.000000   \n",
              "mean      8.798144     2.555294          67.431694    14.945469    27.664447   \n",
              "std      11.687883    10.883072          16.918881     8.688696    12.622688   \n",
              "min     -23.300000   -28.500000          18.000000     0.000000     0.200000   \n",
              "25%       0.100000    -5.900000          56.000000     9.000000    24.100000   \n",
              "50%       9.300000     3.300000          68.000000    13.000000    25.000000   \n",
              "75%      18.800000    11.800000          81.000000    20.000000    25.000000   \n",
              "max      33.000000    24.400000         100.000000    83.000000    48.300000   \n",
              "\n",
              "          pressure  \n",
              "count  8784.000000  \n",
              "mean    101.051623  \n",
              "std       0.844005  \n",
              "min      97.520000  \n",
              "25%     100.560000  \n",
              "50%     101.070000  \n",
              "75%     101.590000  \n",
              "max     103.650000  "
            ],
            "text/html": [
              "\n",
              "  <div id=\"df-1b9e56bf-2270-4e20-9f77-53f91b1e0fa7\">\n",
              "    <div class=\"colab-df-container\">\n",
              "      <div>\n",
              "<style scoped>\n",
              "    .dataframe tbody tr th:only-of-type {\n",
              "        vertical-align: middle;\n",
              "    }\n",
              "\n",
              "    .dataframe tbody tr th {\n",
              "        vertical-align: top;\n",
              "    }\n",
              "\n",
              "    .dataframe thead th {\n",
              "        text-align: right;\n",
              "    }\n",
              "</style>\n",
              "<table border=\"1\" class=\"dataframe\">\n",
              "  <thead>\n",
              "    <tr style=\"text-align: right;\">\n",
              "      <th></th>\n",
              "      <th>temp_c</th>\n",
              "      <th>dew_point</th>\n",
              "      <th>relative_humidity</th>\n",
              "      <th>wind_speed</th>\n",
              "      <th>visibility</th>\n",
              "      <th>pressure</th>\n",
              "    </tr>\n",
              "  </thead>\n",
              "  <tbody>\n",
              "    <tr>\n",
              "      <th>count</th>\n",
              "      <td>8784.000000</td>\n",
              "      <td>8784.000000</td>\n",
              "      <td>8784.000000</td>\n",
              "      <td>8784.000000</td>\n",
              "      <td>8784.000000</td>\n",
              "      <td>8784.000000</td>\n",
              "    </tr>\n",
              "    <tr>\n",
              "      <th>mean</th>\n",
              "      <td>8.798144</td>\n",
              "      <td>2.555294</td>\n",
              "      <td>67.431694</td>\n",
              "      <td>14.945469</td>\n",
              "      <td>27.664447</td>\n",
              "      <td>101.051623</td>\n",
              "    </tr>\n",
              "    <tr>\n",
              "      <th>std</th>\n",
              "      <td>11.687883</td>\n",
              "      <td>10.883072</td>\n",
              "      <td>16.918881</td>\n",
              "      <td>8.688696</td>\n",
              "      <td>12.622688</td>\n",
              "      <td>0.844005</td>\n",
              "    </tr>\n",
              "    <tr>\n",
              "      <th>min</th>\n",
              "      <td>-23.300000</td>\n",
              "      <td>-28.500000</td>\n",
              "      <td>18.000000</td>\n",
              "      <td>0.000000</td>\n",
              "      <td>0.200000</td>\n",
              "      <td>97.520000</td>\n",
              "    </tr>\n",
              "    <tr>\n",
              "      <th>25%</th>\n",
              "      <td>0.100000</td>\n",
              "      <td>-5.900000</td>\n",
              "      <td>56.000000</td>\n",
              "      <td>9.000000</td>\n",
              "      <td>24.100000</td>\n",
              "      <td>100.560000</td>\n",
              "    </tr>\n",
              "    <tr>\n",
              "      <th>50%</th>\n",
              "      <td>9.300000</td>\n",
              "      <td>3.300000</td>\n",
              "      <td>68.000000</td>\n",
              "      <td>13.000000</td>\n",
              "      <td>25.000000</td>\n",
              "      <td>101.070000</td>\n",
              "    </tr>\n",
              "    <tr>\n",
              "      <th>75%</th>\n",
              "      <td>18.800000</td>\n",
              "      <td>11.800000</td>\n",
              "      <td>81.000000</td>\n",
              "      <td>20.000000</td>\n",
              "      <td>25.000000</td>\n",
              "      <td>101.590000</td>\n",
              "    </tr>\n",
              "    <tr>\n",
              "      <th>max</th>\n",
              "      <td>33.000000</td>\n",
              "      <td>24.400000</td>\n",
              "      <td>100.000000</td>\n",
              "      <td>83.000000</td>\n",
              "      <td>48.300000</td>\n",
              "      <td>103.650000</td>\n",
              "    </tr>\n",
              "  </tbody>\n",
              "</table>\n",
              "</div>\n",
              "      <button class=\"colab-df-convert\" onclick=\"convertToInteractive('df-1b9e56bf-2270-4e20-9f77-53f91b1e0fa7')\"\n",
              "              title=\"Convert this dataframe to an interactive table.\"\n",
              "              style=\"display:none;\">\n",
              "        \n",
              "  <svg xmlns=\"http://www.w3.org/2000/svg\" height=\"24px\"viewBox=\"0 0 24 24\"\n",
              "       width=\"24px\">\n",
              "    <path d=\"M0 0h24v24H0V0z\" fill=\"none\"/>\n",
              "    <path d=\"M18.56 5.44l.94 2.06.94-2.06 2.06-.94-2.06-.94-.94-2.06-.94 2.06-2.06.94zm-11 1L8.5 8.5l.94-2.06 2.06-.94-2.06-.94L8.5 2.5l-.94 2.06-2.06.94zm10 10l.94 2.06.94-2.06 2.06-.94-2.06-.94-.94-2.06-.94 2.06-2.06.94z\"/><path d=\"M17.41 7.96l-1.37-1.37c-.4-.4-.92-.59-1.43-.59-.52 0-1.04.2-1.43.59L10.3 9.45l-7.72 7.72c-.78.78-.78 2.05 0 2.83L4 21.41c.39.39.9.59 1.41.59.51 0 1.02-.2 1.41-.59l7.78-7.78 2.81-2.81c.8-.78.8-2.07 0-2.86zM5.41 20L4 18.59l7.72-7.72 1.47 1.35L5.41 20z\"/>\n",
              "  </svg>\n",
              "      </button>\n",
              "      \n",
              "  <style>\n",
              "    .colab-df-container {\n",
              "      display:flex;\n",
              "      flex-wrap:wrap;\n",
              "      gap: 12px;\n",
              "    }\n",
              "\n",
              "    .colab-df-convert {\n",
              "      background-color: #E8F0FE;\n",
              "      border: none;\n",
              "      border-radius: 50%;\n",
              "      cursor: pointer;\n",
              "      display: none;\n",
              "      fill: #1967D2;\n",
              "      height: 32px;\n",
              "      padding: 0 0 0 0;\n",
              "      width: 32px;\n",
              "    }\n",
              "\n",
              "    .colab-df-convert:hover {\n",
              "      background-color: #E2EBFA;\n",
              "      box-shadow: 0px 1px 2px rgba(60, 64, 67, 0.3), 0px 1px 3px 1px rgba(60, 64, 67, 0.15);\n",
              "      fill: #174EA6;\n",
              "    }\n",
              "\n",
              "    [theme=dark] .colab-df-convert {\n",
              "      background-color: #3B4455;\n",
              "      fill: #D2E3FC;\n",
              "    }\n",
              "\n",
              "    [theme=dark] .colab-df-convert:hover {\n",
              "      background-color: #434B5C;\n",
              "      box-shadow: 0px 1px 3px 1px rgba(0, 0, 0, 0.15);\n",
              "      filter: drop-shadow(0px 1px 2px rgba(0, 0, 0, 0.3));\n",
              "      fill: #FFFFFF;\n",
              "    }\n",
              "  </style>\n",
              "\n",
              "      <script>\n",
              "        const buttonEl =\n",
              "          document.querySelector('#df-1b9e56bf-2270-4e20-9f77-53f91b1e0fa7 button.colab-df-convert');\n",
              "        buttonEl.style.display =\n",
              "          google.colab.kernel.accessAllowed ? 'block' : 'none';\n",
              "\n",
              "        async function convertToInteractive(key) {\n",
              "          const element = document.querySelector('#df-1b9e56bf-2270-4e20-9f77-53f91b1e0fa7');\n",
              "          const dataTable =\n",
              "            await google.colab.kernel.invokeFunction('convertToInteractive',\n",
              "                                                     [key], {});\n",
              "          if (!dataTable) return;\n",
              "\n",
              "          const docLinkHtml = 'Like what you see? Visit the ' +\n",
              "            '<a target=\"_blank\" href=https://colab.research.google.com/notebooks/data_table.ipynb>data table notebook</a>'\n",
              "            + ' to learn more about interactive tables.';\n",
              "          element.innerHTML = '';\n",
              "          dataTable['output_type'] = 'display_data';\n",
              "          await google.colab.output.renderOutput(dataTable, element);\n",
              "          const docLink = document.createElement('div');\n",
              "          docLink.innerHTML = docLinkHtml;\n",
              "          element.appendChild(docLink);\n",
              "        }\n",
              "      </script>\n",
              "    </div>\n",
              "  </div>\n",
              "  "
            ]
          },
          "metadata": {},
          "execution_count": 10
        }
      ]
    },
    {
      "cell_type": "markdown",
      "source": [
        "Code to add column named temp_f that represents farenheit temperature"
      ],
      "metadata": {
        "id": "HZdj2twLWt6v"
      }
    },
    {
      "cell_type": "code",
      "source": [
        "df=df.assign(temp_f = lambda x: x.temp_c*1.8+32)"
      ],
      "metadata": {
        "id": "UpqhwnmhWuya"
      },
      "execution_count": 11,
      "outputs": []
    },
    {
      "cell_type": "code",
      "source": [
        "df"
      ],
      "metadata": {
        "colab": {
          "base_uri": "https://localhost:8080/",
          "height": 424
        },
        "id": "kPdktz08W158",
        "outputId": "78e6bd41-a769-4613-fd60-b1c3b97ce23b"
      },
      "execution_count": 12,
      "outputs": [
        {
          "output_type": "execute_result",
          "data": {
            "text/plain": [
              "                date_time  temp_c  dew_point  relative_humidity  wind_speed  \\\n",
              "0     2012-01-01 00:00:00    -1.8       -3.9                 86           4   \n",
              "1     2012-01-01 01:00:00    -1.8       -3.7                 87           4   \n",
              "2     2012-01-01 02:00:00    -1.8       -3.4                 89           7   \n",
              "3     2012-01-01 03:00:00    -1.5       -3.2                 88           6   \n",
              "4     2012-01-01 04:00:00    -1.5       -3.3                 88           7   \n",
              "...                   ...     ...        ...                ...         ...   \n",
              "8779  2012-12-31 19:00:00     0.1       -2.7                 81          30   \n",
              "8780  2012-12-31 20:00:00     0.2       -2.4                 83          24   \n",
              "8781  2012-12-31 21:00:00    -0.5       -1.5                 93          28   \n",
              "8782  2012-12-31 22:00:00    -0.2       -1.8                 89          28   \n",
              "8783  2012-12-31 23:00:00     0.0       -2.1                 86          30   \n",
              "\n",
              "      visibility  pressure               Weather  temp_f  \n",
              "0            8.0    101.24                   Fog   28.76  \n",
              "1            8.0    101.24                   Fog   28.76  \n",
              "2            4.0    101.26  Freezing Drizzle,Fog   28.76  \n",
              "3            4.0    101.27  Freezing Drizzle,Fog   29.30  \n",
              "4            4.8    101.23                   Fog   29.30  \n",
              "...          ...       ...                   ...     ...  \n",
              "8779         9.7    100.13                  Snow   32.18  \n",
              "8780         9.7    100.03                  Snow   32.36  \n",
              "8781         4.8     99.95                  Snow   31.10  \n",
              "8782         9.7     99.91                  Snow   31.64  \n",
              "8783        11.3     99.89                  Snow   32.00  \n",
              "\n",
              "[8784 rows x 9 columns]"
            ],
            "text/html": [
              "\n",
              "  <div id=\"df-656de03e-5962-4854-97f7-c11651f5bd06\">\n",
              "    <div class=\"colab-df-container\">\n",
              "      <div>\n",
              "<style scoped>\n",
              "    .dataframe tbody tr th:only-of-type {\n",
              "        vertical-align: middle;\n",
              "    }\n",
              "\n",
              "    .dataframe tbody tr th {\n",
              "        vertical-align: top;\n",
              "    }\n",
              "\n",
              "    .dataframe thead th {\n",
              "        text-align: right;\n",
              "    }\n",
              "</style>\n",
              "<table border=\"1\" class=\"dataframe\">\n",
              "  <thead>\n",
              "    <tr style=\"text-align: right;\">\n",
              "      <th></th>\n",
              "      <th>date_time</th>\n",
              "      <th>temp_c</th>\n",
              "      <th>dew_point</th>\n",
              "      <th>relative_humidity</th>\n",
              "      <th>wind_speed</th>\n",
              "      <th>visibility</th>\n",
              "      <th>pressure</th>\n",
              "      <th>Weather</th>\n",
              "      <th>temp_f</th>\n",
              "    </tr>\n",
              "  </thead>\n",
              "  <tbody>\n",
              "    <tr>\n",
              "      <th>0</th>\n",
              "      <td>2012-01-01 00:00:00</td>\n",
              "      <td>-1.8</td>\n",
              "      <td>-3.9</td>\n",
              "      <td>86</td>\n",
              "      <td>4</td>\n",
              "      <td>8.0</td>\n",
              "      <td>101.24</td>\n",
              "      <td>Fog</td>\n",
              "      <td>28.76</td>\n",
              "    </tr>\n",
              "    <tr>\n",
              "      <th>1</th>\n",
              "      <td>2012-01-01 01:00:00</td>\n",
              "      <td>-1.8</td>\n",
              "      <td>-3.7</td>\n",
              "      <td>87</td>\n",
              "      <td>4</td>\n",
              "      <td>8.0</td>\n",
              "      <td>101.24</td>\n",
              "      <td>Fog</td>\n",
              "      <td>28.76</td>\n",
              "    </tr>\n",
              "    <tr>\n",
              "      <th>2</th>\n",
              "      <td>2012-01-01 02:00:00</td>\n",
              "      <td>-1.8</td>\n",
              "      <td>-3.4</td>\n",
              "      <td>89</td>\n",
              "      <td>7</td>\n",
              "      <td>4.0</td>\n",
              "      <td>101.26</td>\n",
              "      <td>Freezing Drizzle,Fog</td>\n",
              "      <td>28.76</td>\n",
              "    </tr>\n",
              "    <tr>\n",
              "      <th>3</th>\n",
              "      <td>2012-01-01 03:00:00</td>\n",
              "      <td>-1.5</td>\n",
              "      <td>-3.2</td>\n",
              "      <td>88</td>\n",
              "      <td>6</td>\n",
              "      <td>4.0</td>\n",
              "      <td>101.27</td>\n",
              "      <td>Freezing Drizzle,Fog</td>\n",
              "      <td>29.30</td>\n",
              "    </tr>\n",
              "    <tr>\n",
              "      <th>4</th>\n",
              "      <td>2012-01-01 04:00:00</td>\n",
              "      <td>-1.5</td>\n",
              "      <td>-3.3</td>\n",
              "      <td>88</td>\n",
              "      <td>7</td>\n",
              "      <td>4.8</td>\n",
              "      <td>101.23</td>\n",
              "      <td>Fog</td>\n",
              "      <td>29.30</td>\n",
              "    </tr>\n",
              "    <tr>\n",
              "      <th>...</th>\n",
              "      <td>...</td>\n",
              "      <td>...</td>\n",
              "      <td>...</td>\n",
              "      <td>...</td>\n",
              "      <td>...</td>\n",
              "      <td>...</td>\n",
              "      <td>...</td>\n",
              "      <td>...</td>\n",
              "      <td>...</td>\n",
              "    </tr>\n",
              "    <tr>\n",
              "      <th>8779</th>\n",
              "      <td>2012-12-31 19:00:00</td>\n",
              "      <td>0.1</td>\n",
              "      <td>-2.7</td>\n",
              "      <td>81</td>\n",
              "      <td>30</td>\n",
              "      <td>9.7</td>\n",
              "      <td>100.13</td>\n",
              "      <td>Snow</td>\n",
              "      <td>32.18</td>\n",
              "    </tr>\n",
              "    <tr>\n",
              "      <th>8780</th>\n",
              "      <td>2012-12-31 20:00:00</td>\n",
              "      <td>0.2</td>\n",
              "      <td>-2.4</td>\n",
              "      <td>83</td>\n",
              "      <td>24</td>\n",
              "      <td>9.7</td>\n",
              "      <td>100.03</td>\n",
              "      <td>Snow</td>\n",
              "      <td>32.36</td>\n",
              "    </tr>\n",
              "    <tr>\n",
              "      <th>8781</th>\n",
              "      <td>2012-12-31 21:00:00</td>\n",
              "      <td>-0.5</td>\n",
              "      <td>-1.5</td>\n",
              "      <td>93</td>\n",
              "      <td>28</td>\n",
              "      <td>4.8</td>\n",
              "      <td>99.95</td>\n",
              "      <td>Snow</td>\n",
              "      <td>31.10</td>\n",
              "    </tr>\n",
              "    <tr>\n",
              "      <th>8782</th>\n",
              "      <td>2012-12-31 22:00:00</td>\n",
              "      <td>-0.2</td>\n",
              "      <td>-1.8</td>\n",
              "      <td>89</td>\n",
              "      <td>28</td>\n",
              "      <td>9.7</td>\n",
              "      <td>99.91</td>\n",
              "      <td>Snow</td>\n",
              "      <td>31.64</td>\n",
              "    </tr>\n",
              "    <tr>\n",
              "      <th>8783</th>\n",
              "      <td>2012-12-31 23:00:00</td>\n",
              "      <td>0.0</td>\n",
              "      <td>-2.1</td>\n",
              "      <td>86</td>\n",
              "      <td>30</td>\n",
              "      <td>11.3</td>\n",
              "      <td>99.89</td>\n",
              "      <td>Snow</td>\n",
              "      <td>32.00</td>\n",
              "    </tr>\n",
              "  </tbody>\n",
              "</table>\n",
              "<p>8784 rows × 9 columns</p>\n",
              "</div>\n",
              "      <button class=\"colab-df-convert\" onclick=\"convertToInteractive('df-656de03e-5962-4854-97f7-c11651f5bd06')\"\n",
              "              title=\"Convert this dataframe to an interactive table.\"\n",
              "              style=\"display:none;\">\n",
              "        \n",
              "  <svg xmlns=\"http://www.w3.org/2000/svg\" height=\"24px\"viewBox=\"0 0 24 24\"\n",
              "       width=\"24px\">\n",
              "    <path d=\"M0 0h24v24H0V0z\" fill=\"none\"/>\n",
              "    <path d=\"M18.56 5.44l.94 2.06.94-2.06 2.06-.94-2.06-.94-.94-2.06-.94 2.06-2.06.94zm-11 1L8.5 8.5l.94-2.06 2.06-.94-2.06-.94L8.5 2.5l-.94 2.06-2.06.94zm10 10l.94 2.06.94-2.06 2.06-.94-2.06-.94-.94-2.06-.94 2.06-2.06.94z\"/><path d=\"M17.41 7.96l-1.37-1.37c-.4-.4-.92-.59-1.43-.59-.52 0-1.04.2-1.43.59L10.3 9.45l-7.72 7.72c-.78.78-.78 2.05 0 2.83L4 21.41c.39.39.9.59 1.41.59.51 0 1.02-.2 1.41-.59l7.78-7.78 2.81-2.81c.8-.78.8-2.07 0-2.86zM5.41 20L4 18.59l7.72-7.72 1.47 1.35L5.41 20z\"/>\n",
              "  </svg>\n",
              "      </button>\n",
              "      \n",
              "  <style>\n",
              "    .colab-df-container {\n",
              "      display:flex;\n",
              "      flex-wrap:wrap;\n",
              "      gap: 12px;\n",
              "    }\n",
              "\n",
              "    .colab-df-convert {\n",
              "      background-color: #E8F0FE;\n",
              "      border: none;\n",
              "      border-radius: 50%;\n",
              "      cursor: pointer;\n",
              "      display: none;\n",
              "      fill: #1967D2;\n",
              "      height: 32px;\n",
              "      padding: 0 0 0 0;\n",
              "      width: 32px;\n",
              "    }\n",
              "\n",
              "    .colab-df-convert:hover {\n",
              "      background-color: #E2EBFA;\n",
              "      box-shadow: 0px 1px 2px rgba(60, 64, 67, 0.3), 0px 1px 3px 1px rgba(60, 64, 67, 0.15);\n",
              "      fill: #174EA6;\n",
              "    }\n",
              "\n",
              "    [theme=dark] .colab-df-convert {\n",
              "      background-color: #3B4455;\n",
              "      fill: #D2E3FC;\n",
              "    }\n",
              "\n",
              "    [theme=dark] .colab-df-convert:hover {\n",
              "      background-color: #434B5C;\n",
              "      box-shadow: 0px 1px 3px 1px rgba(0, 0, 0, 0.15);\n",
              "      filter: drop-shadow(0px 1px 2px rgba(0, 0, 0, 0.3));\n",
              "      fill: #FFFFFF;\n",
              "    }\n",
              "  </style>\n",
              "\n",
              "      <script>\n",
              "        const buttonEl =\n",
              "          document.querySelector('#df-656de03e-5962-4854-97f7-c11651f5bd06 button.colab-df-convert');\n",
              "        buttonEl.style.display =\n",
              "          google.colab.kernel.accessAllowed ? 'block' : 'none';\n",
              "\n",
              "        async function convertToInteractive(key) {\n",
              "          const element = document.querySelector('#df-656de03e-5962-4854-97f7-c11651f5bd06');\n",
              "          const dataTable =\n",
              "            await google.colab.kernel.invokeFunction('convertToInteractive',\n",
              "                                                     [key], {});\n",
              "          if (!dataTable) return;\n",
              "\n",
              "          const docLinkHtml = 'Like what you see? Visit the ' +\n",
              "            '<a target=\"_blank\" href=https://colab.research.google.com/notebooks/data_table.ipynb>data table notebook</a>'\n",
              "            + ' to learn more about interactive tables.';\n",
              "          element.innerHTML = '';\n",
              "          dataTable['output_type'] = 'display_data';\n",
              "          await google.colab.output.renderOutput(dataTable, element);\n",
              "          const docLink = document.createElement('div');\n",
              "          docLink.innerHTML = docLinkHtml;\n",
              "          element.appendChild(docLink);\n",
              "        }\n",
              "      </script>\n",
              "    </div>\n",
              "  </div>\n",
              "  "
            ]
          },
          "metadata": {},
          "execution_count": 12
        }
      ]
    },
    {
      "cell_type": "code",
      "source": [
        "Code to rearrange columns in dataset for temp_f to come before temp_c"
      ],
      "metadata": {
        "id": "Re4JfwtqW9fk"
      },
      "execution_count": null,
      "outputs": []
    },
    {
      "cell_type": "code",
      "source": [
        "df=df[['date_time','temp_f', 'temp_c','dew_point','relative_humidity', 'wind_speed','visibility','pressure']]"
      ],
      "metadata": {
        "id": "KBzXRFoOXAG6"
      },
      "execution_count": 13,
      "outputs": []
    },
    {
      "cell_type": "markdown",
      "source": [
        "Code to display data types"
      ],
      "metadata": {
        "id": "gigLS8q_XHkW"
      }
    },
    {
      "cell_type": "code",
      "source": [
        "df.dtypes"
      ],
      "metadata": {
        "colab": {
          "base_uri": "https://localhost:8080/"
        },
        "id": "RtRn7sFUXIY2",
        "outputId": "e48527b8-f9f7-4857-8a6f-77d0c25ebcc8"
      },
      "execution_count": 14,
      "outputs": [
        {
          "output_type": "execute_result",
          "data": {
            "text/plain": [
              "date_time             object\n",
              "temp_f               float64\n",
              "temp_c               float64\n",
              "dew_point            float64\n",
              "relative_humidity      int64\n",
              "wind_speed             int64\n",
              "visibility           float64\n",
              "pressure             float64\n",
              "dtype: object"
            ]
          },
          "metadata": {},
          "execution_count": 14
        }
      ]
    },
    {
      "cell_type": "markdown",
      "source": [
        "Code to convert date/time column to date data type"
      ],
      "metadata": {
        "id": "vypnqs1nXSDi"
      }
    },
    {
      "cell_type": "code",
      "source": [
        "df.date_time=pd.to_datetime(df.date_time)"
      ],
      "metadata": {
        "colab": {
          "base_uri": "https://localhost:8080/"
        },
        "id": "mtXx0fj_XSzG",
        "outputId": "6dcf7d9e-eead-46e5-b313-90444cee3e20"
      },
      "execution_count": 15,
      "outputs": [
        {
          "output_type": "stream",
          "name": "stderr",
          "text": [
            "/usr/local/lib/python3.9/dist-packages/pandas/core/generic.py:5516: SettingWithCopyWarning: \n",
            "A value is trying to be set on a copy of a slice from a DataFrame.\n",
            "Try using .loc[row_indexer,col_indexer] = value instead\n",
            "\n",
            "See the caveats in the documentation: https://pandas.pydata.org/pandas-docs/stable/user_guide/indexing.html#returning-a-view-versus-a-copy\n",
            "  self[name] = value\n"
          ]
        }
      ]
    },
    {
      "cell_type": "code",
      "source": [
        "df.dtypes"
      ],
      "metadata": {
        "colab": {
          "base_uri": "https://localhost:8080/"
        },
        "id": "2GC2v8ofXZFx",
        "outputId": "60fbb6f2-faae-4812-d42b-2842f54b52a9"
      },
      "execution_count": 16,
      "outputs": [
        {
          "output_type": "execute_result",
          "data": {
            "text/plain": [
              "date_time            datetime64[ns]\n",
              "temp_f                      float64\n",
              "temp_c                      float64\n",
              "dew_point                   float64\n",
              "relative_humidity             int64\n",
              "wind_speed                    int64\n",
              "visibility                  float64\n",
              "pressure                    float64\n",
              "dtype: object"
            ]
          },
          "metadata": {},
          "execution_count": 16
        }
      ]
    },
    {
      "cell_type": "markdown",
      "source": [
        "Average Temperature Series for each month"
      ],
      "metadata": {
        "id": "87ryDiUkYECQ"
      }
    },
    {
      "cell_type": "code",
      "source": [
        "monthly_avg=df.groupby(pd.Grouper(key='date_time', freq='M')).mean()\n",
        "monthly_avg=monthly_avg['temp_f']"
      ],
      "metadata": {
        "id": "M754YPA7YE2G"
      },
      "execution_count": 17,
      "outputs": []
    },
    {
      "cell_type": "code",
      "source": [
        "monthly_avg"
      ],
      "metadata": {
        "colab": {
          "base_uri": "https://localhost:8080/"
        },
        "id": "iNgVA_n9YK-W",
        "outputId": "b38c7005-cb4c-45bb-9984-c3b486adc07e"
      },
      "execution_count": 18,
      "outputs": [
        {
          "output_type": "execute_result",
          "data": {
            "text/plain": [
              "date_time\n",
              "2012-01-31    18.731290\n",
              "2012-02-29    24.395000\n",
              "2012-03-31    37.618226\n",
              "2012-04-30    44.616750\n",
              "2012-05-31    61.227984\n",
              "2012-06-30    68.241250\n",
              "2012-07-31    73.022097\n",
              "2012-08-31    72.102742\n",
              "2012-09-30    61.672000\n",
              "2012-10-31    51.718952\n",
              "2012-11-30    33.676500\n",
              "2012-12-31    26.048629\n",
              "Freq: M, Name: temp_f, dtype: float64"
            ]
          },
          "metadata": {},
          "execution_count": 18
        }
      ]
    },
    {
      "cell_type": "code",
      "source": [
        "monthly_avg.head()\n"
      ],
      "metadata": {
        "colab": {
          "base_uri": "https://localhost:8080/"
        },
        "id": "fyL2UL3vYRxY",
        "outputId": "6001de44-3a41-4bf7-ae19-6efa14bae9f4"
      },
      "execution_count": 19,
      "outputs": [
        {
          "output_type": "execute_result",
          "data": {
            "text/plain": [
              "date_time\n",
              "2012-01-31    18.731290\n",
              "2012-02-29    24.395000\n",
              "2012-03-31    37.618226\n",
              "2012-04-30    44.616750\n",
              "2012-05-31    61.227984\n",
              "Freq: M, Name: temp_f, dtype: float64"
            ]
          },
          "metadata": {},
          "execution_count": 19
        }
      ]
    },
    {
      "cell_type": "markdown",
      "source": [
        "Scatterplot to compare the temperature against the relative humidity"
      ],
      "metadata": {
        "id": "lsPbiBYPYbKt"
      }
    },
    {
      "cell_type": "code",
      "source": [
        "df.plot(kind='scatter', x='temp_f',y=\"relative_humidity\", figsize=(20,10))"
      ],
      "metadata": {
        "colab": {
          "base_uri": "https://localhost:8080/",
          "height": 623
        },
        "id": "u-14-ALSYcLw",
        "outputId": "40cbbf46-f1af-492d-eda6-bc2bd18d24b4"
      },
      "execution_count": 20,
      "outputs": [
        {
          "output_type": "execute_result",
          "data": {
            "text/plain": [
              "<AxesSubplot:xlabel='temp_f', ylabel='relative_humidity'>"
            ]
          },
          "metadata": {},
          "execution_count": 20
        },
        {
          "output_type": "display_data",
          "data": {
            "text/plain": [
              "<Figure size 1440x720 with 1 Axes>"
            ],
            "image/png": "[encoded data removed]"
          },
          "metadata": {
            "needs_background": "light"
          }
        }
      ]
    },
    {
      "cell_type": "markdown",
      "source": [
        "line chart that shows the average temperature per month"
      ],
      "metadata": {
        "id": "D6yV3sQPYi2M"
      }
    },
    {
      "cell_type": "code",
      "source": [
        "monthly_avg.plot(kind='line',x='date_time',y='temp_f',figsize=(20,10))"
      ],
      "metadata": {
        "colab": {
          "base_uri": "https://localhost:8080/",
          "height": 635
        },
        "id": "_TVvTkAdYjfy",
        "outputId": "4816b391-2ebf-4cd5-d48f-597ea63c453c"
      },
      "execution_count": 21,
      "outputs": [
        {
          "output_type": "execute_result",
          "data": {
            "text/plain": [
              "<AxesSubplot:xlabel='date_time'>"
            ]
          },
          "metadata": {},
          "execution_count": 21
        },
        {
          "output_type": "display_data",
          "data": {
            "text/plain": [
              "<Figure size 1440x720 with 1 Axes>"
            ],
            "image/png": "[encoded data removed]"
          },
          "metadata": {
            "needs_background": "light"
          }
        }
      ]
    },
    {
      "cell_type": "markdown",
      "source": [
        "Box plot for dataframe"
      ],
      "metadata": {
        "id": "t5NKRyVhYvJu"
      }
    },
    {
      "cell_type": "code",
      "source": [
        "df.plot(kind='box',figsize=(20,10))"
      ],
      "metadata": {
        "colab": {
          "base_uri": "https://localhost:8080/",
          "height": 609
        },
        "id": "pxkbvmIBYxmZ",
        "outputId": "a1515564-c438-4d30-dfa3-f446638e734a"
      },
      "execution_count": 22,
      "outputs": [
        {
          "output_type": "execute_result",
          "data": {
            "text/plain": [
              "<AxesSubplot:>"
            ]
          },
          "metadata": {},
          "execution_count": 22
        },
        {
          "output_type": "display_data",
          "data": {
            "text/plain": [
              "<Figure size 1440x720 with 1 Axes>"
            ],
            "image/png": "[encoded data removed]"
          },
          "metadata": {
            "needs_background": "light"
          }
        }
      ]
    }
  ]
}